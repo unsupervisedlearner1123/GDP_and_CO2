{
    "cells": [
        {
            "cell_type": "code",
            "execution_count": 1,
            "source": [
                "a = 1\n",
                "b =2\n",
                "a+b\n",
                "# Change"
            ],
            "outputs": [
                {
                    "output_type": "execute_result",
                    "data": {
                        "text/plain": [
                            "3"
                        ]
                    },
                    "metadata": {},
                    "execution_count": 1
                }
            ],
            "metadata": {}
        }
    ],
    "metadata": {
        "orig_nbformat": 4,
        "language_info": {
            "name": "python",
            "version": "3.9.6",
            "mimetype": "text/x-python",
            "codemirror_mode": {
                "name": "ipython",
                "version": 3
            },
            "pygments_lexer": "ipython3",
            "nbconvert_exporter": "python",
            "file_extension": ".py"
        },
        "kernelspec": {
            "name": "python3",
            "display_name": "Python 3.9.6 64-bit ('base': conda)"
        },
        "interpreter": {
            "hash": "81e74318f5c4260cfa8546630c827557ab6467b3d7077abafb4c418d551690b0"
        }
    },
    "nbformat": 4,
    "nbformat_minor": 2
}